{
 "cells": [
  {
   "cell_type": "markdown",
   "metadata": {},
   "source": [
    "### Text Summarization In NLP\n",
    "+ It is the process of creating a subset that represents the most important or relevant information within the original content.\n",
    "+ Text summarization finds the most informative sentences in a document.\n",
    "+ Text summarization is the process of finding the most important information from a document to produce an abridged version with all the important ideas.\n",
    "+ The Idea of summarization is to find a subset of data which contains the “information” of the entire set."
   ]
  },
  {
   "cell_type": "markdown",
   "metadata": {},
   "source": [
    "#### Types of Summarization Approaches\n",
    "+ Based on Output Result of Summary\n",
    "    - Extractive\n",
    "    - Abstractive\n",
    "\n",
    "+ Based on Input of Document to be summarized\n",
    "    - Single Document\n",
    "    - Multiple Documents\n",
    "    \n",
    "+ Based on \n",
    "    - Domain  \n",
    "    - Query \n",
    "    - Generic\n",
    "\n",
    "![](text_summarization_jcharistech_2.png)"
   ]
  },
  {
   "cell_type": "markdown",
   "metadata": {
    "jupyter": {
     "source_hidden": true
    }
   },
   "source": [
    "#### Libraries Used\n",
    "\n",
    "![](text_summarization_jcharistech_1.png)\n",
    "\n",
    "+ Installation \n",
    "    - pip install sumy summa lexrank spacy nltk gensim"
   ]
  },
  {
   "cell_type": "code",
   "execution_count": 8,
   "metadata": {},
   "outputs": [],
   "source": [
    "docx = \"\"\"Artificial intelligence (AI), sometimes called machine intelligence, is intelligence demonstrated by machines, unlike the natural intelligence displayed by humans and animals. Leading AI textbooks define the field as the study of \"intelligent agents\": any device that perceives its environment and takes actions that maximize its chance of successfully achieving its goals Colloquially, the term \"artificial intelligence\" is often used to describe machines (or computers) that mimic \"cognitive\" functions that humans associate with the human mind, such as \"learning\" and \"problem solving\"\n",
    "As machines become increasingly capable, tasks considered to require \"intelligence\" are often removed from the definition of AI, a phenomenon known as the AI effect A quip in Tesler's Theorem says \"AI is whatever hasn't been done yet. For instance, optical character recognition is frequently excluded from things considered to be AI having become a routine technology Modern machine capabilities generally classified as AI include successfully understanding human speech competing at the highest level in strategic game systems (such as chess and Go), autonomously operating cars, intelligent routing in content delivery networks, and military simulations.\n",
    "\n",
    "Artificial intelligence was founded as an academic discipline in 1955, and in the years since has experienced several waves of optimism, followed by disappointment and the loss of funding (known as an \"AI winter\"), followed by new approaches, success and renewed funding. For most of its history, AI research has been divided into sub-fields that often fail to communicate with each other. These sub-fields are based on technical considerations, such as particular goals (e.g. \"robotics\" or \"machine learning\"), the use of particular tools (\"logic\" or artificial neural networks), or deep philosophical differences. Sub-fields have also been based on social factors (particular institutions or the work of particular researchers).\n",
    "\n",
    "The traditional problems (or goals) of AI research include reasoning, knowledge representation, planning, learning, natural language processing, perception and the ability to move and manipulate objects. General intelligence is among the field's long-term goals. Approaches include statistical methods, computational intelligence, and traditional symbolic AI. Many tools are used in AI, including versions of search and mathematical optimization, artificial neural networks, and methods based on statistics, probability and economics. The AI field draws upon computer science, information engineering, mathematics, psychology, linguistics, philosophy, and many other fields.\n",
    "\n",
    "The field was founded on the assumption that human intelligence \"can be so precisely described that a machine can be made to simulate it\". This raises philosophical arguments about the mind and the ethics of creating artificial beings endowed with human-like intelligence. These issues have been explored by myth, fiction and philosophy since antiquity. Some people also consider AI to be a danger to humanity if it progresses unabated. Others believe that AI, unlike previous technological revolutions, will create a risk of mass unemployment.\n",
    "\n",
    "In the twenty-first century, AI techniques have experienced a resurgence following concurrent advances in computer power, large amounts of data, and theoretical understanding; and AI techniques have become an essential part of the technology industry, helping to solve many challenging problems in computer science, software engineering and operations research.\"\"\""
   ]
  },
  {
   "cell_type": "markdown",
   "metadata": {},
   "source": [
    "#### Using Sumy\n",
    "+ pip install sumy\n",
    "+ Steps\n",
    "    - parser\n",
    "    - tokenizer\n",
    "    - algorithm\n"
   ]
  },
  {
   "cell_type": "code",
   "execution_count": 9,
   "metadata": {},
   "outputs": [
    {
     "name": "stdout",
     "output_type": "stream",
     "text": [
      "Requirement already satisfied: sumy in /home/kapil/projects/lrn_textmining/venv/lib/python3.6/site-packages (0.8.1)\n",
      "Requirement already satisfied: pycountry>=18.2.23 in /home/kapil/projects/lrn_textmining/venv/lib/python3.6/site-packages (from sumy) (20.7.3)\n",
      "Requirement already satisfied: docopt<0.7,>=0.6.1 in /home/kapil/projects/lrn_textmining/venv/lib/python3.6/site-packages (from sumy) (0.6.2)\n",
      "Requirement already satisfied: requests>=2.7.0 in /home/kapil/projects/lrn_textmining/venv/lib/python3.6/site-packages (from sumy) (2.26.0)\n",
      "Requirement already satisfied: breadability>=0.1.20 in /home/kapil/projects/lrn_textmining/venv/lib/python3.6/site-packages (from sumy) (0.1.20)\n",
      "Requirement already satisfied: nltk>=3.0.2 in /home/kapil/projects/lrn_textmining/venv/lib/python3.6/site-packages (from sumy) (3.6.3)\n",
      "Requirement already satisfied: chardet in /home/kapil/projects/lrn_textmining/venv/lib/python3.6/site-packages (from breadability>=0.1.20->sumy) (4.0.0)\n",
      "Requirement already satisfied: lxml>=2.0 in /home/kapil/projects/lrn_textmining/venv/lib/python3.6/site-packages (from breadability>=0.1.20->sumy) (4.6.3)\n",
      "Requirement already satisfied: click in /home/kapil/projects/lrn_textmining/venv/lib/python3.6/site-packages (from nltk>=3.0.2->sumy) (8.0.1)\n",
      "Requirement already satisfied: tqdm in /home/kapil/projects/lrn_textmining/venv/lib/python3.6/site-packages (from nltk>=3.0.2->sumy) (4.62.3)\n",
      "Requirement already satisfied: regex in /home/kapil/projects/lrn_textmining/venv/lib/python3.6/site-packages (from nltk>=3.0.2->sumy) (2021.9.24)\n",
      "Requirement already satisfied: joblib in /home/kapil/projects/lrn_textmining/venv/lib/python3.6/site-packages (from nltk>=3.0.2->sumy) (1.0.1)\n",
      "Requirement already satisfied: charset-normalizer~=2.0.0 in /home/kapil/projects/lrn_textmining/venv/lib/python3.6/site-packages (from requests>=2.7.0->sumy) (2.0.6)\n",
      "Requirement already satisfied: certifi>=2017.4.17 in /home/kapil/projects/lrn_textmining/venv/lib/python3.6/site-packages (from requests>=2.7.0->sumy) (2021.5.30)\n",
      "Requirement already satisfied: idna<4,>=2.5 in /home/kapil/projects/lrn_textmining/venv/lib/python3.6/site-packages (from requests>=2.7.0->sumy) (3.2)\n",
      "Requirement already satisfied: urllib3<1.27,>=1.21.1 in /home/kapil/projects/lrn_textmining/venv/lib/python3.6/site-packages (from requests>=2.7.0->sumy) (1.26.7)\n",
      "Requirement already satisfied: importlib-metadata in /home/kapil/projects/lrn_textmining/venv/lib/python3.6/site-packages (from click->nltk>=3.0.2->sumy) (4.8.1)\n",
      "Requirement already satisfied: zipp>=0.5 in /home/kapil/projects/lrn_textmining/venv/lib/python3.6/site-packages (from importlib-metadata->click->nltk>=3.0.2->sumy) (3.5.0)\n",
      "Requirement already satisfied: typing-extensions>=3.6.4 in /home/kapil/projects/lrn_textmining/venv/lib/python3.6/site-packages (from importlib-metadata->click->nltk>=3.0.2->sumy) (3.7.4.3)\n",
      "\u001b[33mWARNING: You are using pip version 21.2.4; however, version 21.3 is available.\n",
      "You should consider upgrading via the '/home/kapil/projects/lrn_textmining/venv/bin/python3 -m pip install --upgrade pip' command.\u001b[0m\n"
     ]
    }
   ],
   "source": [
    "!pip install sumy"
   ]
  },
  {
   "cell_type": "code",
   "execution_count": 10,
   "metadata": {},
   "outputs": [],
   "source": [
    "# Load Our Pkgs\n",
    "import sumy"
   ]
  },
  {
   "cell_type": "code",
   "execution_count": 11,
   "metadata": {
    "collapsed": true,
    "jupyter": {
     "outputs_hidden": true
    }
   },
   "outputs": [
    {
     "data": {
      "text/plain": [
       "['__author__',\n",
       " '__builtins__',\n",
       " '__cached__',\n",
       " '__doc__',\n",
       " '__file__',\n",
       " '__loader__',\n",
       " '__name__',\n",
       " '__package__',\n",
       " '__path__',\n",
       " '__spec__',\n",
       " '__version__',\n",
       " '_compat',\n",
       " 'absolute_import',\n",
       " 'division',\n",
       " 'models',\n",
       " 'nlp',\n",
       " 'parsers',\n",
       " 'print_function',\n",
       " 'unicode_literals',\n",
       " 'utils']"
      ]
     },
     "execution_count": 11,
     "metadata": {},
     "output_type": "execute_result"
    }
   ],
   "source": [
    "# Methods\n",
    "dir(sumy)"
   ]
  },
  {
   "cell_type": "code",
   "execution_count": 12,
   "metadata": {},
   "outputs": [],
   "source": [
    "# Load Pkgs\n",
    "from sumy.parsers.plaintext import PlaintextParser\n",
    "from sumy.nlp.tokenizers import Tokenizer"
   ]
  },
  {
   "cell_type": "code",
   "execution_count": 13,
   "metadata": {},
   "outputs": [
    {
     "name": "stdout",
     "output_type": "stream",
     "text": [
      "Artificial intelligence (AI), sometimes called machine intelligence, is intelligence demonstrated by machines, unlike the natural intelligence displayed by humans and animals. Leading AI textbooks define the field as the study of \"intelligent agents\": any device that perceives its environment and takes actions that maximize its chance of successfully achieving its goals Colloquially, the term \"artificial intelligence\" is often used to describe machines (or computers) that mimic \"cognitive\" functions that humans associate with the human mind, such as \"learning\" and \"problem solving\"\n",
      "As machines become increasingly capable, tasks considered to require \"intelligence\" are often removed from the definition of AI, a phenomenon known as the AI effect A quip in Tesler's Theorem says \"AI is whatever hasn't been done yet. For instance, optical character recognition is frequently excluded from things considered to be AI having become a routine technology Modern machine capabilities generally classified as AI include successfully understanding human speech competing at the highest level in strategic game systems (such as chess and Go), autonomously operating cars, intelligent routing in content delivery networks, and military simulations.\n",
      "\n",
      "Artificial intelligence was founded as an academic discipline in 1955, and in the years since has experienced several waves of optimism, followed by disappointment and the loss of funding (known as an \"AI winter\"), followed by new approaches, success and renewed funding. For most of its history, AI research has been divided into sub-fields that often fail to communicate with each other. These sub-fields are based on technical considerations, such as particular goals (e.g. \"robotics\" or \"machine learning\"), the use of particular tools (\"logic\" or artificial neural networks), or deep philosophical differences. Sub-fields have also been based on social factors (particular institutions or the work of particular researchers).\n",
      "\n",
      "The traditional problems (or goals) of AI research include reasoning, knowledge representation, planning, learning, natural language processing, perception and the ability to move and manipulate objects. General intelligence is among the field's long-term goals. Approaches include statistical methods, computational intelligence, and traditional symbolic AI. Many tools are used in AI, including versions of search and mathematical optimization, artificial neural networks, and methods based on statistics, probability and economics. The AI field draws upon computer science, information engineering, mathematics, psychology, linguistics, philosophy, and many other fields.\n",
      "\n",
      "The field was founded on the assumption that human intelligence \"can be so precisely described that a machine can be made to simulate it\". This raises philosophical arguments about the mind and the ethics of creating artificial beings endowed with human-like intelligence. These issues have been explored by myth, fiction and philosophy since antiquity. Some people also consider AI to be a danger to humanity if it progresses unabated. Others believe that AI, unlike previous technological revolutions, will create a risk of mass unemployment.\n",
      "\n",
      "In the twenty-first century, AI techniques have experienced a resurgence following concurrent advances in computer power, large amounts of data, and theoretical understanding; and AI techniques have become an essential part of the technology industry, helping to solve many challenging problems in computer science, software engineering and operations research.\n"
     ]
    }
   ],
   "source": [
    "print(docx)"
   ]
  },
  {
   "cell_type": "code",
   "execution_count": 15,
   "metadata": {},
   "outputs": [
    {
     "name": "stderr",
     "output_type": "stream",
     "text": [
      "[nltk_data] Downloading package punkt to /home/kapil/nltk_data...\n",
      "[nltk_data]   Unzipping tokenizers/punkt.zip.\n"
     ]
    },
    {
     "data": {
      "text/plain": [
       "True"
      ]
     },
     "execution_count": 15,
     "metadata": {},
     "output_type": "execute_result"
    }
   ],
   "source": [
    "import nltk\n",
    "nltk.download('punkt')"
   ]
  },
  {
   "cell_type": "code",
   "execution_count": 16,
   "metadata": {},
   "outputs": [],
   "source": [
    "# Parsing From String\n",
    "parser = PlaintextParser.from_string(docx,Tokenizer(\"english\"))"
   ]
  },
  {
   "cell_type": "code",
   "execution_count": 17,
   "metadata": {},
   "outputs": [
    {
     "data": {
      "text/plain": [
       "<DOM with 5 paragraphs>"
      ]
     },
     "execution_count": 17,
     "metadata": {},
     "output_type": "execute_result"
    }
   ],
   "source": [
    "# Get The Text\n",
    "parser.document"
   ]
  },
  {
   "cell_type": "code",
   "execution_count": 18,
   "metadata": {
    "collapsed": true,
    "jupyter": {
     "outputs_hidden": true
    }
   },
   "outputs": [
    {
     "data": {
      "text/plain": [
       "(<Sentence: Artificial intelligence (AI), sometimes called machine intelligence, is intelligence demonstrated by machines, unlike the natural intelligence displayed by humans and animals.>,\n",
       " <Sentence: Leading AI textbooks define the field as the study of \"intelligent agents\": any device that perceives its environment and takes actions that maximize its chance of successfully achieving its goals Colloquially, the term \"artificial intelligence\" is often used to describe machines (or computers) that mimic \"cognitive\" functions that humans associate with the human mind, such as \"learning\" and \"problem solving\" As machines become increasingly capable, tasks considered to require \"intelligence\" are often removed from the definition of AI, a phenomenon known as the AI effect A quip in Tesler's Theorem says \"AI is whatever hasn't been done yet.>,\n",
       " <Sentence: For instance, optical character recognition is frequently excluded from things considered to be AI having become a routine technology Modern machine capabilities generally classified as AI include successfully understanding human speech competing at the highest level in strategic game systems (such as chess and Go), autonomously operating cars, intelligent routing in content delivery networks, and military simulations.>,\n",
       " <Sentence: Artificial intelligence was founded as an academic discipline in 1955, and in the years since has experienced several waves of optimism, followed by disappointment and the loss of funding (known as an \"AI winter\"), followed by new approaches, success and renewed funding.>,\n",
       " <Sentence: For most of its history, AI research has been divided into sub-fields that often fail to communicate with each other.>,\n",
       " <Sentence: These sub-fields are based on technical considerations, such as particular goals (e.g. \"robotics\" or \"machine learning\"), the use of particular tools (\"logic\" or artificial neural networks), or deep philosophical differences.>,\n",
       " <Sentence: Sub-fields have also been based on social factors (particular institutions or the work of particular researchers).>,\n",
       " <Sentence: The traditional problems (or goals) of AI research include reasoning, knowledge representation, planning, learning, natural language processing, perception and the ability to move and manipulate objects.>,\n",
       " <Sentence: General intelligence is among the field's long-term goals.>,\n",
       " <Sentence: Approaches include statistical methods, computational intelligence, and traditional symbolic AI.>,\n",
       " <Sentence: Many tools are used in AI, including versions of search and mathematical optimization, artificial neural networks, and methods based on statistics, probability and economics.>,\n",
       " <Sentence: The AI field draws upon computer science, information engineering, mathematics, psychology, linguistics, philosophy, and many other fields.>,\n",
       " <Sentence: The field was founded on the assumption that human intelligence \"can be so precisely described that a machine can be made to simulate it\".>,\n",
       " <Sentence: This raises philosophical arguments about the mind and the ethics of creating artificial beings endowed with human-like intelligence.>,\n",
       " <Sentence: These issues have been explored by myth, fiction and philosophy since antiquity.>,\n",
       " <Sentence: Some people also consider AI to be a danger to humanity if it progresses unabated.>,\n",
       " <Sentence: Others believe that AI, unlike previous technological revolutions, will create a risk of mass unemployment.>,\n",
       " <Sentence: In the twenty-first century, AI techniques have experienced a resurgence following concurrent advances in computer power, large amounts of data, and theoretical understanding; and AI techniques have become an essential part of the technology industry, helping to solve many challenging problems in computer science, software engineering and operations research.>)"
      ]
     },
     "execution_count": 18,
     "metadata": {},
     "output_type": "execute_result"
    }
   ],
   "source": [
    "# Get The Sentence Text\n",
    "parser.document.sentences"
   ]
  },
  {
   "cell_type": "code",
   "execution_count": 19,
   "metadata": {
    "collapsed": true,
    "jupyter": {
     "outputs_hidden": true
    }
   },
   "outputs": [
    {
     "data": {
      "text/plain": [
       "('Artificial',\n",
       " 'intelligence',\n",
       " 'AI',\n",
       " 'sometimes',\n",
       " 'called',\n",
       " 'machine',\n",
       " 'intelligence',\n",
       " 'is',\n",
       " 'intelligence',\n",
       " 'demonstrated',\n",
       " 'by',\n",
       " 'machines',\n",
       " 'unlike',\n",
       " 'the',\n",
       " 'natural',\n",
       " 'intelligence',\n",
       " 'displayed',\n",
       " 'by',\n",
       " 'humans',\n",
       " 'and',\n",
       " 'animals',\n",
       " 'Leading',\n",
       " 'AI',\n",
       " 'textbooks',\n",
       " 'define',\n",
       " 'the',\n",
       " 'field',\n",
       " 'as',\n",
       " 'the',\n",
       " 'study',\n",
       " 'of',\n",
       " 'intelligent',\n",
       " 'agents',\n",
       " 'any',\n",
       " 'device',\n",
       " 'that',\n",
       " 'perceives',\n",
       " 'its',\n",
       " 'environment',\n",
       " 'and',\n",
       " 'takes',\n",
       " 'actions',\n",
       " 'that',\n",
       " 'maximize',\n",
       " 'its',\n",
       " 'chance',\n",
       " 'of',\n",
       " 'successfully',\n",
       " 'achieving',\n",
       " 'its',\n",
       " 'goals',\n",
       " 'Colloquially',\n",
       " 'the',\n",
       " 'term',\n",
       " 'artificial',\n",
       " 'intelligence',\n",
       " 'is',\n",
       " 'often',\n",
       " 'used',\n",
       " 'to',\n",
       " 'describe',\n",
       " 'machines',\n",
       " 'or',\n",
       " 'computers',\n",
       " 'that',\n",
       " 'mimic',\n",
       " 'cognitive',\n",
       " 'functions',\n",
       " 'that',\n",
       " 'humans',\n",
       " 'associate',\n",
       " 'with',\n",
       " 'the',\n",
       " 'human',\n",
       " 'mind',\n",
       " 'such',\n",
       " 'as',\n",
       " 'learning',\n",
       " 'and',\n",
       " 'problem',\n",
       " 'solving',\n",
       " 'As',\n",
       " 'machines',\n",
       " 'become',\n",
       " 'increasingly',\n",
       " 'capable',\n",
       " 'tasks',\n",
       " 'considered',\n",
       " 'to',\n",
       " 'require',\n",
       " 'intelligence',\n",
       " 'are',\n",
       " 'often',\n",
       " 'removed',\n",
       " 'from',\n",
       " 'the',\n",
       " 'definition',\n",
       " 'of',\n",
       " 'AI',\n",
       " 'a',\n",
       " 'phenomenon',\n",
       " 'known',\n",
       " 'as',\n",
       " 'the',\n",
       " 'AI',\n",
       " 'effect',\n",
       " 'A',\n",
       " 'quip',\n",
       " 'in',\n",
       " 'Tesler',\n",
       " 'Theorem',\n",
       " 'says',\n",
       " 'AI',\n",
       " 'is',\n",
       " 'whatever',\n",
       " 'has',\n",
       " 'been',\n",
       " 'done',\n",
       " 'yet',\n",
       " 'For',\n",
       " 'instance',\n",
       " 'optical',\n",
       " 'character',\n",
       " 'recognition',\n",
       " 'is',\n",
       " 'frequently',\n",
       " 'excluded',\n",
       " 'from',\n",
       " 'things',\n",
       " 'considered',\n",
       " 'to',\n",
       " 'be',\n",
       " 'AI',\n",
       " 'having',\n",
       " 'become',\n",
       " 'a',\n",
       " 'routine',\n",
       " 'technology',\n",
       " 'Modern',\n",
       " 'machine',\n",
       " 'capabilities',\n",
       " 'generally',\n",
       " 'classified',\n",
       " 'as',\n",
       " 'AI',\n",
       " 'include',\n",
       " 'successfully',\n",
       " 'understanding',\n",
       " 'human',\n",
       " 'speech',\n",
       " 'competing',\n",
       " 'at',\n",
       " 'the',\n",
       " 'highest',\n",
       " 'level',\n",
       " 'in',\n",
       " 'strategic',\n",
       " 'game',\n",
       " 'systems',\n",
       " 'such',\n",
       " 'as',\n",
       " 'chess',\n",
       " 'and',\n",
       " 'Go',\n",
       " 'autonomously',\n",
       " 'operating',\n",
       " 'cars',\n",
       " 'intelligent',\n",
       " 'routing',\n",
       " 'in',\n",
       " 'content',\n",
       " 'delivery',\n",
       " 'networks',\n",
       " 'and',\n",
       " 'military',\n",
       " 'simulations',\n",
       " 'Artificial',\n",
       " 'intelligence',\n",
       " 'was',\n",
       " 'founded',\n",
       " 'as',\n",
       " 'an',\n",
       " 'academic',\n",
       " 'discipline',\n",
       " 'in',\n",
       " 'and',\n",
       " 'in',\n",
       " 'the',\n",
       " 'years',\n",
       " 'since',\n",
       " 'has',\n",
       " 'experienced',\n",
       " 'several',\n",
       " 'waves',\n",
       " 'of',\n",
       " 'optimism',\n",
       " 'followed',\n",
       " 'by',\n",
       " 'disappointment',\n",
       " 'and',\n",
       " 'the',\n",
       " 'loss',\n",
       " 'of',\n",
       " 'funding',\n",
       " 'known',\n",
       " 'as',\n",
       " 'an',\n",
       " 'AI',\n",
       " 'winter',\n",
       " 'followed',\n",
       " 'by',\n",
       " 'new',\n",
       " 'approaches',\n",
       " 'success',\n",
       " 'and',\n",
       " 'renewed',\n",
       " 'funding',\n",
       " 'For',\n",
       " 'most',\n",
       " 'of',\n",
       " 'its',\n",
       " 'history',\n",
       " 'AI',\n",
       " 'research',\n",
       " 'has',\n",
       " 'been',\n",
       " 'divided',\n",
       " 'into',\n",
       " 'that',\n",
       " 'often',\n",
       " 'fail',\n",
       " 'to',\n",
       " 'communicate',\n",
       " 'with',\n",
       " 'each',\n",
       " 'other',\n",
       " 'These',\n",
       " 'are',\n",
       " 'based',\n",
       " 'on',\n",
       " 'technical',\n",
       " 'considerations',\n",
       " 'such',\n",
       " 'as',\n",
       " 'particular',\n",
       " 'goals',\n",
       " 'robotics',\n",
       " 'or',\n",
       " 'machine',\n",
       " 'learning',\n",
       " 'the',\n",
       " 'use',\n",
       " 'of',\n",
       " 'particular',\n",
       " 'tools',\n",
       " 'logic',\n",
       " 'or',\n",
       " 'artificial',\n",
       " 'neural',\n",
       " 'networks',\n",
       " 'or',\n",
       " 'deep',\n",
       " 'philosophical',\n",
       " 'differences',\n",
       " 'have',\n",
       " 'also',\n",
       " 'been',\n",
       " 'based',\n",
       " 'on',\n",
       " 'social',\n",
       " 'factors',\n",
       " 'particular',\n",
       " 'institutions',\n",
       " 'or',\n",
       " 'the',\n",
       " 'work',\n",
       " 'of',\n",
       " 'particular',\n",
       " 'researchers',\n",
       " 'The',\n",
       " 'traditional',\n",
       " 'problems',\n",
       " 'or',\n",
       " 'goals',\n",
       " 'of',\n",
       " 'AI',\n",
       " 'research',\n",
       " 'include',\n",
       " 'reasoning',\n",
       " 'knowledge',\n",
       " 'representation',\n",
       " 'planning',\n",
       " 'learning',\n",
       " 'natural',\n",
       " 'language',\n",
       " 'processing',\n",
       " 'perception',\n",
       " 'and',\n",
       " 'the',\n",
       " 'ability',\n",
       " 'to',\n",
       " 'move',\n",
       " 'and',\n",
       " 'manipulate',\n",
       " 'objects',\n",
       " 'General',\n",
       " 'intelligence',\n",
       " 'is',\n",
       " 'among',\n",
       " 'the',\n",
       " 'field',\n",
       " 'goals',\n",
       " 'Approaches',\n",
       " 'include',\n",
       " 'statistical',\n",
       " 'methods',\n",
       " 'computational',\n",
       " 'intelligence',\n",
       " 'and',\n",
       " 'traditional',\n",
       " 'symbolic',\n",
       " 'AI',\n",
       " 'Many',\n",
       " 'tools',\n",
       " 'are',\n",
       " 'used',\n",
       " 'in',\n",
       " 'AI',\n",
       " 'including',\n",
       " 'versions',\n",
       " 'of',\n",
       " 'search',\n",
       " 'and',\n",
       " 'mathematical',\n",
       " 'optimization',\n",
       " 'artificial',\n",
       " 'neural',\n",
       " 'networks',\n",
       " 'and',\n",
       " 'methods',\n",
       " 'based',\n",
       " 'on',\n",
       " 'statistics',\n",
       " 'probability',\n",
       " 'and',\n",
       " 'economics',\n",
       " 'The',\n",
       " 'AI',\n",
       " 'field',\n",
       " 'draws',\n",
       " 'upon',\n",
       " 'computer',\n",
       " 'science',\n",
       " 'information',\n",
       " 'engineering',\n",
       " 'mathematics',\n",
       " 'psychology',\n",
       " 'linguistics',\n",
       " 'philosophy',\n",
       " 'and',\n",
       " 'many',\n",
       " 'other',\n",
       " 'fields',\n",
       " 'The',\n",
       " 'field',\n",
       " 'was',\n",
       " 'founded',\n",
       " 'on',\n",
       " 'the',\n",
       " 'assumption',\n",
       " 'that',\n",
       " 'human',\n",
       " 'intelligence',\n",
       " 'can',\n",
       " 'be',\n",
       " 'so',\n",
       " 'precisely',\n",
       " 'described',\n",
       " 'that',\n",
       " 'a',\n",
       " 'machine',\n",
       " 'can',\n",
       " 'be',\n",
       " 'made',\n",
       " 'to',\n",
       " 'simulate',\n",
       " 'it',\n",
       " 'This',\n",
       " 'raises',\n",
       " 'philosophical',\n",
       " 'arguments',\n",
       " 'about',\n",
       " 'the',\n",
       " 'mind',\n",
       " 'and',\n",
       " 'the',\n",
       " 'ethics',\n",
       " 'of',\n",
       " 'creating',\n",
       " 'artificial',\n",
       " 'beings',\n",
       " 'endowed',\n",
       " 'with',\n",
       " 'intelligence',\n",
       " 'These',\n",
       " 'issues',\n",
       " 'have',\n",
       " 'been',\n",
       " 'explored',\n",
       " 'by',\n",
       " 'myth',\n",
       " 'fiction',\n",
       " 'and',\n",
       " 'philosophy',\n",
       " 'since',\n",
       " 'antiquity',\n",
       " 'Some',\n",
       " 'people',\n",
       " 'also',\n",
       " 'consider',\n",
       " 'AI',\n",
       " 'to',\n",
       " 'be',\n",
       " 'a',\n",
       " 'danger',\n",
       " 'to',\n",
       " 'humanity',\n",
       " 'if',\n",
       " 'it',\n",
       " 'progresses',\n",
       " 'unabated',\n",
       " 'Others',\n",
       " 'believe',\n",
       " 'that',\n",
       " 'AI',\n",
       " 'unlike',\n",
       " 'previous',\n",
       " 'technological',\n",
       " 'revolutions',\n",
       " 'will',\n",
       " 'create',\n",
       " 'a',\n",
       " 'risk',\n",
       " 'of',\n",
       " 'mass',\n",
       " 'unemployment',\n",
       " 'In',\n",
       " 'the',\n",
       " 'century',\n",
       " 'AI',\n",
       " 'techniques',\n",
       " 'have',\n",
       " 'experienced',\n",
       " 'a',\n",
       " 'resurgence',\n",
       " 'following',\n",
       " 'concurrent',\n",
       " 'advances',\n",
       " 'in',\n",
       " 'computer',\n",
       " 'power',\n",
       " 'large',\n",
       " 'amounts',\n",
       " 'of',\n",
       " 'data',\n",
       " 'and',\n",
       " 'theoretical',\n",
       " 'understanding',\n",
       " 'and',\n",
       " 'AI',\n",
       " 'techniques',\n",
       " 'have',\n",
       " 'become',\n",
       " 'an',\n",
       " 'essential',\n",
       " 'part',\n",
       " 'of',\n",
       " 'the',\n",
       " 'technology',\n",
       " 'industry',\n",
       " 'helping',\n",
       " 'to',\n",
       " 'solve',\n",
       " 'many',\n",
       " 'challenging',\n",
       " 'problems',\n",
       " 'in',\n",
       " 'computer',\n",
       " 'science',\n",
       " 'software',\n",
       " 'engineering',\n",
       " 'and',\n",
       " 'operations',\n",
       " 'research')"
      ]
     },
     "execution_count": 19,
     "metadata": {},
     "output_type": "execute_result"
    }
   ],
   "source": [
    "# Get Word TOkens\n",
    "parser.document.words"
   ]
  },
  {
   "cell_type": "code",
   "execution_count": 20,
   "metadata": {},
   "outputs": [],
   "source": [
    "# Parsing From File\n",
    "parsed_file = PlaintextParser.from_file(\"example.txt\",Tokenizer(\"english\"))"
   ]
  },
  {
   "cell_type": "code",
   "execution_count": 23,
   "metadata": {},
   "outputs": [
    {
     "data": {
      "text/plain": [
       "(<Sentence: Artificial intelligence (AI), sometimes called machine intelligence, is intelligence demonstrated by machines, unlike the natural intelligence displayed by humans and animals.>,\n",
       " <Sentence: Leading AI textbooks define the field as the study of \"intelligent agents\": any device that perceives its environment and takes actions that maximize its chance of successfully achieving its goals Colloquially, the term \"artificial intelligence\" is often used to describe machines (or computers) that mimic \"cognitive\" functions that humans associate with the human mind, such as \"learning\" and \"problem solving\" As machines become increasingly capable, tasks considered to require \"intelligence\" are often removed from the definition of AI, a phenomenon known as the AI effect A quip in Tesler's Theorem says \"AI is whatever hasn't been done yet.>,\n",
       " <Sentence: For instance, optical character recognition is frequently excluded from things considered to be AI having become a routine technology Modern machine capabilities generally classified as AI include successfully understanding human speech competing at the highest level in strategic game systems (such as chess and Go), autonomously operating cars, intelligent routing in content delivery networks, and military simulations.>,\n",
       " <Sentence: Artificial intelligence was founded as an academic discipline in 1955, and in the years since has experienced several waves of optimism, followed by disappointment and the loss of funding (known as an \"AI winter\"), followed by new approaches, success and renewed funding.>,\n",
       " <Sentence: For most of its history, AI research has been divided into sub-fields that often fail to communicate with each other.>,\n",
       " <Sentence: These sub-fields are based on technical considerations, such as particular goals (e.g. \"robotics\" or \"machine learning\"), the use of particular tools (\"logic\" or artificial neural networks), or deep philosophical differences.>,\n",
       " <Sentence: Sub-fields have also been based on social factors (particular institutions or the work of particular researchers).>,\n",
       " <Sentence: The traditional problems (or goals) of AI research include reasoning, knowledge representation, planning, learning, natural language processing, perception and the ability to move and manipulate objects.>,\n",
       " <Sentence: General intelligence is among the field's long-term goals.>,\n",
       " <Sentence: Approaches include statistical methods, computational intelligence, and traditional symbolic AI.>,\n",
       " <Sentence: Many tools are used in AI, including versions of search and mathematical optimization, artificial neural networks, and methods based on statistics, probability and economics.>,\n",
       " <Sentence: The AI field draws upon computer science, information engineering, mathematics, psychology, linguistics, philosophy, and many other fields.>,\n",
       " <Sentence: The field was founded on the assumption that human intelligence \"can be so precisely described that a machine can be made to simulate it\".>,\n",
       " <Sentence: This raises philosophical arguments about the mind and the ethics of creating artificial beings endowed with human-like intelligence.>,\n",
       " <Sentence: These issues have been explored by myth, fiction and philosophy since antiquity.>,\n",
       " <Sentence: Some people also consider AI to be a danger to humanity if it progresses unabated.>,\n",
       " <Sentence: Others believe that AI, unlike previous technological revolutions, will create a risk of mass unemployment.>,\n",
       " <Sentence: In the twenty-first century, AI techniques have experienced a resurgence following concurrent advances in computer power, large amounts of data, and theoretical understanding; and AI techniques have become an essential part of the technology industry, helping to solve many challenging problems in computer science, software engineering and operations research.>)"
      ]
     },
     "execution_count": 23,
     "metadata": {},
     "output_type": "execute_result"
    }
   ],
   "source": [
    "parsed_file.document.sentences"
   ]
  },
  {
   "cell_type": "code",
   "execution_count": null,
   "metadata": {},
   "outputs": [],
   "source": []
  },
  {
   "cell_type": "code",
   "execution_count": null,
   "metadata": {},
   "outputs": [],
   "source": []
  },
  {
   "cell_type": "markdown",
   "metadata": {},
   "source": [
    "####  Word Frequency Based"
   ]
  },
  {
   "cell_type": "markdown",
   "metadata": {},
   "source": [
    "#### Using Luhn\n",
    "+ Based on frequency of most important words"
   ]
  },
  {
   "cell_type": "code",
   "execution_count": 58,
   "metadata": {},
   "outputs": [],
   "source": [
    "from sumy.summarizers.luhn import LuhnSummarizer"
   ]
  },
  {
   "cell_type": "code",
   "execution_count": 59,
   "metadata": {},
   "outputs": [],
   "source": [
    "luhn_summarizer = LuhnSummarizer()\n",
    "summary_1 = luhn_summarizer(parser.document,2)"
   ]
  },
  {
   "cell_type": "code",
   "execution_count": 60,
   "metadata": {},
   "outputs": [
    {
     "name": "stdout",
     "output_type": "stream",
     "text": [
      "(<Sentence: Leading AI textbooks define the field as the study of \"intelligent agents\": any device that perceives its environment and takes actions that maximize its chance of successfully achieving its goals Colloquially, the term \"artificial intelligence\" is often used to describe machines (or computers) that mimic \"cognitive\" functions that humans associate with the human mind, such as \"learning\" and \"problem solving\" As machines become increasingly capable, tasks considered to require \"intelligence\" are often removed from the definition of AI, a phenomenon known as the AI effect A quip in Tesler's Theorem says \"AI is whatever hasn't been done yet.>, <Sentence: Artificial intelligence was founded as an academic discipline in 1955, and in the years since has experienced several waves of optimism, followed by disappointment and the loss of funding (known as an \"AI winter\"), followed by new approaches, success and renewed funding.>)\n"
     ]
    }
   ],
   "source": [
    "print(summary_1)"
   ]
  },
  {
   "cell_type": "code",
   "execution_count": 61,
   "metadata": {},
   "outputs": [
    {
     "name": "stdout",
     "output_type": "stream",
     "text": [
      "Leading AI textbooks define the field as the study of \"intelligent agents\": any device that perceives its environment and takes actions that maximize its chance of successfully achieving its goals Colloquially, the term \"artificial intelligence\" is often used to describe machines (or computers) that mimic \"cognitive\" functions that humans associate with the human mind, such as \"learning\" and \"problem solving\" As machines become increasingly capable, tasks considered to require \"intelligence\" are often removed from the definition of AI, a phenomenon known as the AI effect A quip in Tesler's Theorem says \"AI is whatever hasn't been done yet.\n",
      "Artificial intelligence was founded as an academic discipline in 1955, and in the years since has experienced several waves of optimism, followed by disappointment and the loss of funding (known as an \"AI winter\"), followed by new approaches, success and renewed funding.\n"
     ]
    }
   ],
   "source": [
    "for sentence in summary_1:\n",
    "    print(sentence)"
   ]
  },
  {
   "cell_type": "code",
   "execution_count": null,
   "metadata": {},
   "outputs": [],
   "source": []
  },
  {
   "cell_type": "markdown",
   "metadata": {},
   "source": [
    "#### Using LSA (Latent Semantic Analysis)\n",
    "+ Based on term frequency techniques with singular value decomposition to summarize texts."
   ]
  },
  {
   "cell_type": "code",
   "execution_count": 62,
   "metadata": {},
   "outputs": [],
   "source": [
    "# Load Our Pkgs\n",
    "from sumy.summarizers.lsa import LsaSummarizer"
   ]
  },
  {
   "cell_type": "code",
   "execution_count": 63,
   "metadata": {},
   "outputs": [],
   "source": [
    "lsa_summarizer = LsaSummarizer()"
   ]
  },
  {
   "cell_type": "code",
   "execution_count": 64,
   "metadata": {},
   "outputs": [],
   "source": [
    "summary_2 = lsa_summarizer(parser.document,1)"
   ]
  },
  {
   "cell_type": "code",
   "execution_count": 68,
   "metadata": {},
   "outputs": [
    {
     "name": "stdout",
     "output_type": "stream",
     "text": [
      "For instance, optical character recognition is frequently excluded from things considered to be AI having become a routine technology Modern machine capabilities generally classified as AI include successfully understanding human speech competing at the highest level in strategic game systems (such as chess and Go), autonomously operating cars, intelligent routing in content delivery networks, and military simulations.\n"
     ]
    }
   ],
   "source": [
    "for sentence in summary_2:\n",
    "    print(sentence)\n",
    "    "
   ]
  },
  {
   "cell_type": "code",
   "execution_count": 69,
   "metadata": {},
   "outputs": [],
   "source": [
    "## Alternative Method using stopwords\n",
    "from sumy.nlp.stemmers import Stemmer\n",
    "from sumy.utils import get_stop_words\n",
    "summarizer_lsa2 = LsaSummarizer()\n",
    "summarizer_lsa2 = LsaSummarizer(Stemmer(\"english\"))\n",
    "summarizer_lsa2.stop_words = get_stop_words(\"english\")"
   ]
  },
  {
   "cell_type": "code",
   "execution_count": 70,
   "metadata": {},
   "outputs": [
    {
     "name": "stdout",
     "output_type": "stream",
     "text": [
      "For instance, optical character recognition is frequently excluded from things considered to be AI having become a routine technology Modern machine capabilities generally classified as AI include successfully understanding human speech competing at the highest level in strategic game systems (such as chess and Go), autonomously operating cars, intelligent routing in content delivery networks, and military simulations.\n",
      "The traditional problems (or goals) of AI research include reasoning, knowledge representation, planning, learning, natural language processing, perception and the ability to move and manipulate objects.\n"
     ]
    }
   ],
   "source": [
    "for summary in summarizer_lsa2(parser.document,2):\n",
    "    print(summary)"
   ]
  },
  {
   "cell_type": "markdown",
   "metadata": {},
   "source": [
    "#### Graph-Based Algorithms\n",
    "+ TextRank\n",
    "+ LexRank"
   ]
  },
  {
   "cell_type": "markdown",
   "metadata": {},
   "source": [
    "#### Using LexRank¶\n",
    "+ It is unsupervised approach to text summarization based on graph-based centrality scoring of sentences.\n",
    "+ The main idea is that sentences \"recommend\" other similar sentences to the reader. Thus, if one sentence is very similar to many others, it will likely be a sentence of great importance\n",
    "+ LexRank uses degrees of similarity between words and phrases and computes the centrality of the sentences to assign weights\n",
    "+ Mostly for Multiple Documents\n",
    "+ Standalone pkg pip install lexrank\n"
   ]
  },
  {
   "cell_type": "code",
   "execution_count": 71,
   "metadata": {},
   "outputs": [],
   "source": [
    "# Using Sumy Lexrank\n",
    "from sumy.summarizers.lex_rank import LexRankSummarizer"
   ]
  },
  {
   "cell_type": "code",
   "execution_count": 72,
   "metadata": {},
   "outputs": [],
   "source": [
    "lex_summarizer = LexRankSummarizer()"
   ]
  },
  {
   "cell_type": "code",
   "execution_count": 73,
   "metadata": {},
   "outputs": [],
   "source": [
    "summary_3 = lex_summarizer(parser.document,2)"
   ]
  },
  {
   "cell_type": "code",
   "execution_count": 74,
   "metadata": {},
   "outputs": [
    {
     "name": "stdout",
     "output_type": "stream",
     "text": [
      "Leading AI textbooks define the field as the study of \"intelligent agents\": any device that perceives its environment and takes actions that maximize its chance of successfully achieving its goals Colloquially, the term \"artificial intelligence\" is often used to describe machines (or computers) that mimic \"cognitive\" functions that humans associate with the human mind, such as \"learning\" and \"problem solving\" As machines become increasingly capable, tasks considered to require \"intelligence\" are often removed from the definition of AI, a phenomenon known as the AI effect A quip in Tesler's Theorem says \"AI is whatever hasn't been done yet.\n",
      "These sub-fields are based on technical considerations, such as particular goals (e.g. \"robotics\" or \"machine learning\"), the use of particular tools (\"logic\" or artificial neural networks), or deep philosophical differences.\n"
     ]
    }
   ],
   "source": [
    "for summary in summary_3:\n",
    "    print(summary)"
   ]
  },
  {
   "cell_type": "code",
   "execution_count": null,
   "metadata": {},
   "outputs": [],
   "source": []
  },
  {
   "cell_type": "markdown",
   "metadata": {},
   "source": [
    "#### TextRank\n",
    "+ TextRank – is a graph-based ranking model for text processing which can be used in order to find the most relevant sentences in text and also to find keywords.\n",
    "+ Gensim\n",
    "+ Summa\n",
    "+ PyTextRank"
   ]
  },
  {
   "cell_type": "code",
   "execution_count": null,
   "metadata": {},
   "outputs": [],
   "source": [
    "# Using Sumy Textrank"
   ]
  },
  {
   "cell_type": "code",
   "execution_count": 75,
   "metadata": {},
   "outputs": [],
   "source": [
    "from sumy.summarizers.text_rank import TextRankSummarizer"
   ]
  },
  {
   "cell_type": "code",
   "execution_count": 76,
   "metadata": {},
   "outputs": [],
   "source": [
    "txtRank = TextRankSummarizer()"
   ]
  },
  {
   "cell_type": "code",
   "execution_count": 77,
   "metadata": {},
   "outputs": [],
   "source": [
    "summary_4 = txtRank(parser.document,2)"
   ]
  },
  {
   "cell_type": "code",
   "execution_count": 78,
   "metadata": {},
   "outputs": [
    {
     "name": "stdout",
     "output_type": "stream",
     "text": [
      "Leading AI textbooks define the field as the study of \"intelligent agents\": any device that perceives its environment and takes actions that maximize its chance of successfully achieving its goals Colloquially, the term \"artificial intelligence\" is often used to describe machines (or computers) that mimic \"cognitive\" functions that humans associate with the human mind, such as \"learning\" and \"problem solving\" As machines become increasingly capable, tasks considered to require \"intelligence\" are often removed from the definition of AI, a phenomenon known as the AI effect A quip in Tesler's Theorem says \"AI is whatever hasn't been done yet.\n",
      "In the twenty-first century, AI techniques have experienced a resurgence following concurrent advances in computer power, large amounts of data, and theoretical understanding; and AI techniques have become an essential part of the technology industry, helping to solve many challenging problems in computer science, software engineering and operations research.\n"
     ]
    }
   ],
   "source": [
    "for summary in summary_4:\n",
    "    print(summary)"
   ]
  },
  {
   "cell_type": "markdown",
   "metadata": {},
   "source": [
    "#### Using Gensim TextRank\n",
    "+ pip install gensim\n",
    "+ pip install gensim_sum_ext"
   ]
  },
  {
   "cell_type": "code",
   "execution_count": 80,
   "metadata": {},
   "outputs": [],
   "source": [
    "from gensim.summarization.summarizer import summarize"
   ]
  },
  {
   "cell_type": "code",
   "execution_count": 81,
   "metadata": {},
   "outputs": [
    {
     "data": {
      "text/plain": [
       "'Leading AI textbooks define the field as the study of \"intelligent agents\": any device that perceives its environment and takes actions that maximize its chance of successfully achieving its goals Colloquially, the term \"artificial intelligence\" is often used to describe machines (or computers) that mimic \"cognitive\" functions that humans associate with the human mind, such as \"learning\" and \"problem solving\"\\nFor instance, optical character recognition is frequently excluded from things considered to be AI having become a routine technology Modern machine capabilities generally classified as AI include successfully understanding human speech competing at the highest level in strategic game systems (such as chess and Go), autonomously operating cars, intelligent routing in content delivery networks, and military simulations.\\nMany tools are used in AI, including versions of search and mathematical optimization, artificial neural networks, and methods based on statistics, probability and economics.\\nThe field was founded on the assumption that human intelligence \"can be so precisely described that a machine can be made to simulate it\".'"
      ]
     },
     "execution_count": 81,
     "metadata": {},
     "output_type": "execute_result"
    }
   ],
   "source": [
    "summarize(docx)"
   ]
  },
  {
   "cell_type": "markdown",
   "metadata": {},
   "source": [
    "#### Summa\n",
    "+ pip install summa"
   ]
  },
  {
   "cell_type": "code",
   "execution_count": 82,
   "metadata": {},
   "outputs": [],
   "source": [
    "#### Using Summa\n",
    "from summa import summarizer"
   ]
  },
  {
   "cell_type": "code",
   "execution_count": 83,
   "metadata": {},
   "outputs": [
    {
     "data": {
      "text/plain": [
       "'Artificial intelligence (AI), sometimes called machine intelligence, is intelligence demonstrated by machines, unlike the natural intelligence displayed by humans and animals.\\nLeading AI textbooks define the field as the study of \"intelligent agents\": any device that perceives its environment and takes actions that maximize its chance of successfully achieving its goals Colloquially, the term \"artificial intelligence\" is often used to describe machines (or computers) that mimic \"cognitive\" functions that humans associate with the human mind, such as \"learning\" and \"problem solving\"\\nFor instance, optical character recognition is frequently excluded from things considered to be AI having become a routine technology Modern machine capabilities generally classified as AI include successfully understanding human speech competing at the highest level in strategic game systems (such as chess and Go), autonomously operating cars, intelligent routing in content delivery networks, and military simulations.\\nMany tools are used in AI, including versions of search and mathematical optimization, artificial neural networks, and methods based on statistics, probability and economics.'"
      ]
     },
     "execution_count": 83,
     "metadata": {},
     "output_type": "execute_result"
    }
   ],
   "source": [
    "summarizer.summarize(docx)"
   ]
  },
  {
   "cell_type": "code",
   "execution_count": null,
   "metadata": {},
   "outputs": [],
   "source": []
  },
  {
   "cell_type": "code",
   "execution_count": null,
   "metadata": {},
   "outputs": [],
   "source": []
  },
  {
   "cell_type": "code",
   "execution_count": 3,
   "metadata": {},
   "outputs": [],
   "source": [
    "#### Thanks For Watching\n",
    "#### Jesus Saves @JCharisTech\n",
    "### Jesse E.Agbe(JCharis)"
   ]
  },
  {
   "cell_type": "code",
   "execution_count": null,
   "metadata": {},
   "outputs": [],
   "source": []
  }
 ],
 "metadata": {
  "interpreter": {
   "hash": "e4a512dba0a00a82b71f363fa583b831caf91f1dafbc42895fe0a3e53ecbd296"
  },
  "kernelspec": {
   "display_name": "Python 3.6.9 64-bit ('venv': venv)",
   "name": "python3"
  },
  "language_info": {
   "codemirror_mode": {
    "name": "ipython",
    "version": 3
   },
   "file_extension": ".py",
   "mimetype": "text/x-python",
   "name": "python",
   "nbconvert_exporter": "python",
   "pygments_lexer": "ipython3",
   "version": "3.6.9"
  }
 },
 "nbformat": 4,
 "nbformat_minor": 4
}
