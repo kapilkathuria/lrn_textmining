{
 "cells": [
  {
   "cell_type": "markdown",
   "metadata": {},
   "source": [
    "# Week 4 - Applied Text Mining in Python\n",
    "\n",
    "# Week4 just covered theory. No coding was covered.\n",
    "\n",
    "Key Concepts\n",
    "* Apply WordNet-based similarity measures on text\n",
    "* Derive semantic topics from a large text collection using LDA\n",
    "* List and describe techniques for named entity recognition and other information extraction tasks.\n"
   ]
  },
  {
   "cell_type": "markdown",
   "metadata": {},
   "source": [
    "Semantic similarity: grouping words with similar meaning.\n",
    "\n",
    "Userful for \n",
    "* textual entailment: meaning / answer drived from other text\n",
    "* Paraphrasing: writing texst in different way\n",
    "\n",
    "## **WordNet**: \n",
    "built in a way in which word Semantic relationship can be established\n",
    "\n",
    "Doing this in Pyhton\n",
    "* WordNet can be improted in NLTK"
   ]
  },
  {
   "cell_type": "markdown",
   "metadata": {},
   "source": [
    "## Collocations and Distribution Similarity\n",
    "\n",
    "* If two words are sppearing in same context repeatedly, those will be related\n",
    "\n",
    "Example: Meeting and Restaurant. \n",
    "\n",
    "* words occuring next to each other\n",
    "* "
   ]
  },
  {
   "cell_type": "markdown",
   "metadata": {},
   "source": [
    "# Topic Modelling\n",
    "\n",
    "Topic modelling is about understanading key topic of given text. \n",
    "\n",
    "In an article, you will generally see many topics intermingled. \n",
    "\n",
    "While doing Topic Modelling, one ususally has:\n",
    "* Text on which topic modelling need to be done\n",
    "* topics\n",
    "\n",
    "Topic modelling is word clustering problem.\n",
    "\n",
    "## Differet topic modelling approaches\n",
    "* PLSA\n",
    "* LDA:  Most popular. Proposed in 2003"
   ]
  },
  {
   "cell_type": "markdown",
   "metadata": {},
   "source": [
    "# Generative Models for Text\n",
    "\n",
    "Unigram Model: one model of given topic --> one can generate docuemnt from that. For ex. if you have 500 words related to Sports - then that become your Sports Model - you can randmonlly pull out word and generate topic.\n",
    "\n",
    "Mixure Model: Multiple Models on differenet topics - documetn is genrated from mixure of words from these topics.\n",
    "\n",
    "## LDA\n",
    "LDA is generative model.\n",
    "\n",
    "How to find how many topic? one has to make estimated guess.\n",
    "\n",
    "## Doing in Python\n",
    "1. Use packages like Gensim, LDA\n",
    "2. useful to do text pre-processing before topic modelling: tokenize, stop words, stemming\n",
    "3. convert tokenize documents to document - term matrix: ????\n",
    "4. build lda models on document -term matrix\n",
    "5. doc_set\n",
    "6. "
   ]
  },
  {
   "cell_type": "markdown",
   "metadata": {},
   "source": [
    "# Information Extraction\n",
    "\n",
    "* Named Entities: People, Places, Dates, Companies\n",
    "   * Entities are different in different fields i.e stock price in finance.\n",
    "* Relations: what happened to who when how where? i.e. relationship between these Entities.\n",
    "\n",
    "NER: technique to extract Entities. \n",
    "\n",
    "## Approaches to identify Entities\n",
    "* Regex: for dates, phone numbers, currency etc.\n",
    "* ML: other entities apart from above.\n",
    "\n",
    "## Relation Extraction\n",
    "* Co-refernce resolution"
   ]
  }
 ],
 "metadata": {
  "language_info": {
   "codemirror_mode": {
    "name": "ipython",
    "version": 3
   },
   "file_extension": ".py",
   "mimetype": "text/x-python",
   "name": "python",
   "nbconvert_exporter": "python",
   "pygments_lexer": "ipython3",
   "version": 3
  },
  "orig_nbformat": 2
 },
 "nbformat": 4,
 "nbformat_minor": 2
}